{
 "cells": [
  {
   "cell_type": "code",
   "execution_count": null,
   "id": "6cd8a440",
   "metadata": {},
   "outputs": [],
   "source": []
  },
  {
   "cell_type": "code",
   "execution_count": 1,
   "id": "e1a12496",
   "metadata": {},
   "outputs": [
    {
     "name": "stdout",
     "output_type": "stream",
     "text": [
      "Requirement already satisfied: opencv-python in c:\\users\\msi\\anaconda3\\lib\\site-packages (4.10.0.84)\n",
      "Requirement already satisfied: numpy>=1.21.2 in c:\\users\\msi\\anaconda3\\lib\\site-packages (from opencv-python) (1.24.3)\n"
     ]
    }
   ],
   "source": [
    "!pip install opencv-python"
   ]
  },
  {
   "cell_type": "code",
   "execution_count": 2,
   "id": "75574b8d",
   "metadata": {},
   "outputs": [
    {
     "name": "stdout",
     "output_type": "stream",
     "text": [
      "4.10.0\n"
     ]
    }
   ],
   "source": [
    "import cv2\n",
    "print(cv2.__version__)"
   ]
  },
  {
   "cell_type": "code",
   "execution_count": 3,
   "id": "8a1e59bd",
   "metadata": {},
   "outputs": [
    {
     "name": "stdout",
     "output_type": "stream",
     "text": [
      "Requirement already satisfied: cmake in c:\\users\\msi\\appdata\\roaming\\python\\python311\\site-packages (3.31.1)\n"
     ]
    }
   ],
   "source": [
    "!pip install cmake --user\n"
   ]
  },
  {
   "cell_type": "code",
   "execution_count": 4,
   "id": "d8ea655c",
   "metadata": {},
   "outputs": [
    {
     "name": "stdout",
     "output_type": "stream",
     "text": [
      "Requirement already satisfied: dlib in c:\\users\\msi\\appdata\\roaming\\python\\python311\\site-packages (19.24.6)\n"
     ]
    }
   ],
   "source": [
    "!pip install dlib --no-cache-dir --user\n"
   ]
  },
  {
   "cell_type": "code",
   "execution_count": 5,
   "id": "117a36e8",
   "metadata": {},
   "outputs": [
    {
     "name": "stdout",
     "output_type": "stream",
     "text": [
      "Requirement already satisfied: face_recognition in c:\\users\\msi\\appdata\\roaming\\python\\python311\\site-packages (1.3.0)\n",
      "Requirement already satisfied: face-recognition-models>=0.3.0 in c:\\users\\msi\\appdata\\roaming\\python\\python311\\site-packages (from face_recognition) (0.3.0)\n",
      "Requirement already satisfied: Click>=6.0 in c:\\users\\msi\\anaconda3\\lib\\site-packages (from face_recognition) (8.0.4)\n",
      "Requirement already satisfied: dlib>=19.7 in c:\\users\\msi\\appdata\\roaming\\python\\python311\\site-packages (from face_recognition) (19.24.6)\n",
      "Requirement already satisfied: numpy in c:\\users\\msi\\anaconda3\\lib\\site-packages (from face_recognition) (1.24.3)\n",
      "Requirement already satisfied: Pillow in c:\\users\\msi\\anaconda3\\lib\\site-packages (from face_recognition) (9.4.0)\n",
      "Requirement already satisfied: colorama in c:\\users\\msi\\anaconda3\\lib\\site-packages (from Click>=6.0->face_recognition) (0.4.6)\n"
     ]
    }
   ],
   "source": [
    "!pip install face_recognition --no-cache-dir --user"
   ]
  },
  {
   "cell_type": "code",
   "execution_count": 6,
   "id": "e6ed7824",
   "metadata": {},
   "outputs": [],
   "source": [
    "import cv2\n",
    "import numpy as np\n",
    "import face_recognition as fr"
   ]
  },
  {
   "cell_type": "code",
   "execution_count": 7,
   "id": "5333b4df",
   "metadata": {},
   "outputs": [],
   "source": [
    "video_capture = cv2.VideoCapture(0)"
   ]
  },
  {
   "cell_type": "code",
   "execution_count": 8,
   "id": "84a6bf14",
   "metadata": {},
   "outputs": [
    {
     "name": "stdout",
     "output_type": "stream",
     "text": [
      "C:\\Users\\MSI\n"
     ]
    }
   ],
   "source": [
    "import os\n",
    "print(os.getcwd())\n"
   ]
  },
  {
   "cell_type": "code",
   "execution_count": 9,
   "id": "c5520174",
   "metadata": {},
   "outputs": [],
   "source": [
    "image = fr.load_image_file('Tharukshi.jpg')"
   ]
  },
  {
   "cell_type": "code",
   "execution_count": 10,
   "id": "353955b1",
   "metadata": {},
   "outputs": [],
   "source": [
    "image_face_encoding = fr.face_encodings(image)[0] "
   ]
  },
  {
   "cell_type": "code",
   "execution_count": 11,
   "id": "18965674",
   "metadata": {},
   "outputs": [],
   "source": [
    "known_face_encodings = [image_face_encoding]"
   ]
  },
  {
   "cell_type": "code",
   "execution_count": 12,
   "id": "6cb2cd4e",
   "metadata": {},
   "outputs": [],
   "source": [
    "known_face_names = [\"Tharukshi\"]"
   ]
  },
  {
   "cell_type": "code",
   "execution_count": null,
   "id": "07551e1c",
   "metadata": {
    "scrolled": true
   },
   "outputs": [],
   "source": [
    "while True:\n",
    "    ret, frame = video_capture.read()\n",
    "    if not ret:\n",
    "        print(\"Failed to capture frame. Exiting.\")\n",
    "        break\n",
    "    \n",
    "    # Convert to RGB format\n",
    "    rgb_frame = cv2.cvtColor(frame, cv2.COLOR_BGR2RGB)\n",
    "\n",
    "    # Detect face locations\n",
    "    fc_locations = fr.face_locations(rgb_frame)\n",
    "\n",
    "    # Proceed only if faces are detected\n",
    "    if fc_locations:\n",
    "        try:\n",
    "            fc_encodings = fr.face_encodings(rgb_frame, fc_locations)\n",
    "        except Exception as e:\n",
    "            print(f\"Error during face encoding: {e}\")\n",
    "            continue  # Skip this frame if encoding fails\n",
    "\n",
    "    # Iterate over detected faces (if any)\n",
    "    for (top, right, bottom, left), face_encoding in zip(fc_locations, fc_encodings):\n",
    "        matches = fr.compare_faces(known_face_encodings, face_encoding)\n",
    "\n",
    "        name = \"Unknown\"\n",
    "        fc_distances = [np.linalg.norm(known_encoding - face_encoding) for known_encoding in known_face_encodings]\n",
    "\n",
    "        if len(fc_distances) > 0:  # Ensure distances are available\n",
    "            match_index = np.argmin(fc_distances)\n",
    "            if matches[match_index]:\n",
    "                name = known_face_names[match_index]\n",
    "\n",
    "        # Draw rectangle and label\n",
    "        cv2.rectangle(frame, (left, top), (right, bottom), (0, 0, 255), 2)\n",
    "        cv2.rectangle(frame, (left, bottom - 35), (right, bottom), (0, 0, 255), cv2.FILLED)\n",
    "        font = cv2.FONT_HERSHEY_SIMPLEX\n",
    "        cv2.putText(frame, name, (left + 6, bottom - 6), font, 1.0, (255, 255, 255), 1)\n",
    "\n",
    "    # Display the video feed\n",
    "    cv2.imshow('Face Detection System', frame)\n",
    "\n",
    "    # Break on 'q' key press\n",
    "    if cv2.waitKey(1) & 0xFF == ord('q'):\n",
    "        break\n",
    "\n",
    "# Release resources\n",
    "video_capture.release()\n",
    "cv2.destroyAllWindows()\n"
   ]
  }
 ],
 "metadata": {
  "kernelspec": {
   "display_name": "Python 3 (ipykernel)",
   "language": "python",
   "name": "python3"
  },
  "language_info": {
   "codemirror_mode": {
    "name": "ipython",
    "version": 3
   },
   "file_extension": ".py",
   "mimetype": "text/x-python",
   "name": "python",
   "nbconvert_exporter": "python",
   "pygments_lexer": "ipython3",
   "version": "3.11.5"
  }
 },
 "nbformat": 4,
 "nbformat_minor": 5
}
